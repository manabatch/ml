{
  "nbformat": 4,
  "nbformat_minor": 0,
  "metadata": {
    "colab": {
      "provenance": []
    },
    "kernelspec": {
      "name": "python3",
      "display_name": "Python 3"
    },
    "language_info": {
      "name": "python"
    }
  },
  "cells": [
    {
      "cell_type": "code",
      "execution_count": 1,
      "metadata": {
        "id": "IFXQqjf2k256",
        "outputId": "1bca5845-93ed-4819-943b-8e048b695df7",
        "colab": {
          "base_uri": "https://localhost:8080/"
        }
      },
      "outputs": [
        {
          "output_type": "stream",
          "name": "stdout",
          "text": [
            "[1 0 2 1 1 0 1 2 2 1 2 0 0 0 0 1 2 1 1 2 0 2 0 2 2 2 2 2 0 0]\n",
            "Accuracy: 0.9666666666666667\n",
            "Precision: 0.9722222222222222\n",
            "Recall: 0.9629629629629629\n",
            "f1: 0.9658994032395567\n",
            "Confusion matrix: [[10  0  0]\n",
            " [ 0  8  1]\n",
            " [ 0  0 11]]\n"
          ]
        }
      ],
      "source": [
        "from sklearn import datasets\n",
        "from sklearn import metrics\n",
        "from sklearn.neighbors import KNeighborsClassifier\n",
        "from sklearn.model_selection import train_test_split\n",
        "iris = datasets.load_iris()\n",
        "X = iris.data\n",
        "y = iris.target\n",
        "X_train, X_test, y_train, y_test = train_test_split(X, y, test_size = 0.2, random_state=42)\n",
        "knn = KNeighborsClassifier(n_neighbors=7)\n",
        "model=knn.fit(X_train, y_train)\n",
        "y_pred = knn.predict(X_test)\n",
        "y_pred.shape\n",
        "print(y_pred)\n",
        "print(\"Accuracy:\",metrics.accuracy_score(y_test, y_pred))\n",
        "print(\"Precision:\",metrics.precision_score(y_test, y_pred, average = \n",
        "'macro'))\n",
        "print(\"Recall:\",metrics.recall_score(y_test, y_pred, average = \n",
        "'macro'))\n",
        "print(\"f1:\",metrics.f1_score(y_test, y_pred, average = 'macro'))\n",
        "print(\"Confusion matrix:\",metrics.confusion_matrix(y_test, y_pred))"
      ]
    }
  ]
}