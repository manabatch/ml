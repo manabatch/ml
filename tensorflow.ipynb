{
  "nbformat": 4,
  "nbformat_minor": 0,
  "metadata": {
    "colab": {
      "provenance": []
    },
    "kernelspec": {
      "name": "python3",
      "display_name": "Python 3"
    },
    "language_info": {
      "name": "python"
    }
  },
  "cells": [
    {
      "cell_type": "code",
      "source": [
        "import numpy as np\n",
        "import tensorflow as tf\n",
        "x_train = np.random.rand(100, 1) * 10\n",
        "y_train = 2 * x_train - 3 + np.random.randn(100, 1)\n",
        "model = tf.keras.Sequential([tf.keras.layers.Dense(units=1, input_shape=[1])])\n",
        "loss_fn = tf.keras.losses.MeanSquaredError()\n",
        "optimizer = tf.keras.optimizers.SGD(learning_rate=0.01)\n",
        "train_dataset = tf.data.Dataset.from_tensor_slices((x_train, y_train)).batch(32)\n",
        "for epoch in range(1000):\n",
        "  for x_batch, y_batch in train_dataset:\n",
        "    with tf.GradientTape() as tape:\n",
        "      y_pred = model(x_batch)\n",
        "      loss = loss_fn(y_batch, y_pred)\n",
        "    gradients = tape.gradient(loss, model.trainable_variables)\n",
        "    optimizer.apply_gradients(zip(gradients, model.trainable_variables))\n",
        "    if epoch % 100 == 0:\n",
        "      print(\"Epoch {}: w = {}, b = {}\".format(epoch, model.get_weights()[0], model.get_weights()[1]))\n",
        "      model.get_weights()"
      ],
      "metadata": {
        "colab": {
          "base_uri": "https://localhost:8080/"
        },
        "id": "ZZGG5FUBdJme",
        "outputId": "e96373f6-be79-4141-ca37-4b563127a282"
      },
      "execution_count": 38,
      "outputs": [
        {
          "output_type": "stream",
          "name": "stdout",
          "text": [
            "Epoch 0: w = [[1.5911363]], b = [-0.01667069]\n",
            "Epoch 0: w = [[1.6005648]], b = [-0.02678791]\n",
            "Epoch 0: w = [[1.5855665]], b = [-0.04201695]\n",
            "Epoch 0: w = [[1.6382333]], b = [-0.04787882]\n",
            "Epoch 100: w = [[1.9332218]], b = [-2.4306695]\n",
            "Epoch 100: w = [[1.9581115]], b = [-2.4277325]\n",
            "Epoch 100: w = [[1.9342599]], b = [-2.433913]\n",
            "Epoch 100: w = [[1.9316101]], b = [-2.4385765]\n",
            "Epoch 200: w = [[2.0003793]], b = [-2.9064856]\n",
            "Epoch 200: w = [[2.0285006]], b = [-2.9009478]\n",
            "Epoch 200: w = [[2.002966]], b = [-2.905336]\n",
            "Epoch 200: w = [[1.9894336]], b = [-2.9097607]\n",
            "Epoch 300: w = [[2.0136156]], b = [-3.0002656]\n",
            "Epoch 300: w = [[2.0423737]], b = [-2.9942153]\n",
            "Epoch 300: w = [[2.0165074]], b = [-2.99825]\n",
            "Epoch 300: w = [[2.0008302]], b = [-3.0026278]\n",
            "Epoch 400: w = [[2.0162241]], b = [-3.0187483]\n",
            "Epoch 400: w = [[2.0451078]], b = [-3.0125968]\n",
            "Epoch 400: w = [[2.0191762]], b = [-3.016562]\n",
            "Epoch 400: w = [[2.0030763]], b = [-3.0209305]\n",
            "Epoch 500: w = [[2.0167387]], b = [-3.0223923]\n",
            "Epoch 500: w = [[2.045647]], b = [-3.0162208]\n",
            "Epoch 500: w = [[2.0197024]], b = [-3.0201724]\n",
            "Epoch 500: w = [[2.0035193]], b = [-3.024539]\n",
            "Epoch 600: w = [[2.0168402]], b = [-3.0231118]\n",
            "Epoch 600: w = [[2.0457535]], b = [-3.0169365]\n",
            "Epoch 600: w = [[2.0198064]], b = [-3.0208855]\n",
            "Epoch 600: w = [[2.0036068]], b = [-3.0252519]\n",
            "Epoch 700: w = [[2.0168595]], b = [-3.023249]\n",
            "Epoch 700: w = [[2.0457737]], b = [-3.017073]\n",
            "Epoch 700: w = [[2.0198262]], b = [-3.0210211]\n",
            "Epoch 700: w = [[2.0036232]], b = [-3.0253873]\n",
            "Epoch 800: w = [[2.016863]], b = [-3.0232754]\n",
            "Epoch 800: w = [[2.0457776]], b = [-3.0170991]\n",
            "Epoch 800: w = [[2.01983]], b = [-3.0210474]\n",
            "Epoch 800: w = [[2.0036266]], b = [-3.0254135]\n",
            "Epoch 900: w = [[2.016864]], b = [-3.0232818]\n",
            "Epoch 900: w = [[2.0457785]], b = [-3.0171056]\n",
            "Epoch 900: w = [[2.0198307]], b = [-3.0210538]\n",
            "Epoch 900: w = [[2.0036273]], b = [-3.02542]\n"
          ]
        }
      ]
    }
  ]
}